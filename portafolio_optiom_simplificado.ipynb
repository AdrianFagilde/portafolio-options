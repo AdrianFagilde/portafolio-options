{
 "cells": [
  {
   "cell_type": "code",
   "execution_count": 1,
   "id": "92c52caa91d73cb4",
   "metadata": {},
   "outputs": [],
   "source": [
    "import pandas as pd\n",
    "import numpy as np\n",
    "from scipy.optimize import minimize\n",
    "import matplotlib.pyplot as plt"
   ]
  },
  {
   "cell_type": "markdown",
   "id": "afabebc260da3a90",
   "metadata": {},
   "source": [
    "## Preparación de la Data"
   ]
  },
  {
   "cell_type": "code",
   "execution_count": 2,
   "id": "4f66a7197acb4824",
   "metadata": {
    "ExecuteTime": {
     "end_time": "2025-06-21T17:44:58.970347Z",
     "start_time": "2025-06-21T17:44:58.927497Z"
    }
   },
   "outputs": [
    {
     "ename": "FileNotFoundError",
     "evalue": "[Errno 2] No such file or directory: 'precios_semanales.xlsx'",
     "output_type": "error",
     "traceback": [
      "\u001b[1;31m---------------------------------------------------------------------------\u001b[0m",
      "\u001b[1;31mFileNotFoundError\u001b[0m                         Traceback (most recent call last)",
      "Cell \u001b[1;32mIn[2], line 3\u001b[0m\n\u001b[0;32m      1\u001b[0m \u001b[38;5;66;03m# Carga y preparación de datos\u001b[39;00m\n\u001b[0;32m      2\u001b[0m file_path \u001b[38;5;241m=\u001b[39m \u001b[38;5;124m\"\u001b[39m\u001b[38;5;124mprecios_semanales.xlsx\u001b[39m\u001b[38;5;124m\"\u001b[39m\n\u001b[1;32m----> 3\u001b[0m df \u001b[38;5;241m=\u001b[39m \u001b[43mpd\u001b[49m\u001b[38;5;241;43m.\u001b[39;49m\u001b[43mread_excel\u001b[49m\u001b[43m(\u001b[49m\u001b[43mfile_path\u001b[49m\u001b[43m,\u001b[49m\u001b[43m \u001b[49m\u001b[43msheet_name\u001b[49m\u001b[38;5;241;43m=\u001b[39;49m\u001b[38;5;241;43m0\u001b[39;49m\u001b[43m)\u001b[49m\n\u001b[0;32m      4\u001b[0m df\u001b[38;5;241m.\u001b[39mset_index(df\u001b[38;5;241m.\u001b[39mcolumns[\u001b[38;5;241m0\u001b[39m], inplace\u001b[38;5;241m=\u001b[39m\u001b[38;5;28;01mTrue\u001b[39;00m)\n\u001b[0;32m      5\u001b[0m df\u001b[38;5;241m.\u001b[39mindex \u001b[38;5;241m=\u001b[39m pd\u001b[38;5;241m.\u001b[39mto_datetime(df\u001b[38;5;241m.\u001b[39mindex)\n",
      "File \u001b[1;32mc:\\Users\\afagi\\AppData\\Local\\Programs\\Python\\Python312\\Lib\\site-packages\\pandas\\io\\excel\\_base.py:495\u001b[0m, in \u001b[0;36mread_excel\u001b[1;34m(io, sheet_name, header, names, index_col, usecols, dtype, engine, converters, true_values, false_values, skiprows, nrows, na_values, keep_default_na, na_filter, verbose, parse_dates, date_parser, date_format, thousands, decimal, comment, skipfooter, storage_options, dtype_backend, engine_kwargs)\u001b[0m\n\u001b[0;32m    493\u001b[0m \u001b[38;5;28;01mif\u001b[39;00m \u001b[38;5;129;01mnot\u001b[39;00m \u001b[38;5;28misinstance\u001b[39m(io, ExcelFile):\n\u001b[0;32m    494\u001b[0m     should_close \u001b[38;5;241m=\u001b[39m \u001b[38;5;28;01mTrue\u001b[39;00m\n\u001b[1;32m--> 495\u001b[0m     io \u001b[38;5;241m=\u001b[39m \u001b[43mExcelFile\u001b[49m\u001b[43m(\u001b[49m\n\u001b[0;32m    496\u001b[0m \u001b[43m        \u001b[49m\u001b[43mio\u001b[49m\u001b[43m,\u001b[49m\n\u001b[0;32m    497\u001b[0m \u001b[43m        \u001b[49m\u001b[43mstorage_options\u001b[49m\u001b[38;5;241;43m=\u001b[39;49m\u001b[43mstorage_options\u001b[49m\u001b[43m,\u001b[49m\n\u001b[0;32m    498\u001b[0m \u001b[43m        \u001b[49m\u001b[43mengine\u001b[49m\u001b[38;5;241;43m=\u001b[39;49m\u001b[43mengine\u001b[49m\u001b[43m,\u001b[49m\n\u001b[0;32m    499\u001b[0m \u001b[43m        \u001b[49m\u001b[43mengine_kwargs\u001b[49m\u001b[38;5;241;43m=\u001b[39;49m\u001b[43mengine_kwargs\u001b[49m\u001b[43m,\u001b[49m\n\u001b[0;32m    500\u001b[0m \u001b[43m    \u001b[49m\u001b[43m)\u001b[49m\n\u001b[0;32m    501\u001b[0m \u001b[38;5;28;01melif\u001b[39;00m engine \u001b[38;5;129;01mand\u001b[39;00m engine \u001b[38;5;241m!=\u001b[39m io\u001b[38;5;241m.\u001b[39mengine:\n\u001b[0;32m    502\u001b[0m     \u001b[38;5;28;01mraise\u001b[39;00m \u001b[38;5;167;01mValueError\u001b[39;00m(\n\u001b[0;32m    503\u001b[0m         \u001b[38;5;124m\"\u001b[39m\u001b[38;5;124mEngine should not be specified when passing \u001b[39m\u001b[38;5;124m\"\u001b[39m\n\u001b[0;32m    504\u001b[0m         \u001b[38;5;124m\"\u001b[39m\u001b[38;5;124man ExcelFile - ExcelFile already has the engine set\u001b[39m\u001b[38;5;124m\"\u001b[39m\n\u001b[0;32m    505\u001b[0m     )\n",
      "File \u001b[1;32mc:\\Users\\afagi\\AppData\\Local\\Programs\\Python\\Python312\\Lib\\site-packages\\pandas\\io\\excel\\_base.py:1550\u001b[0m, in \u001b[0;36mExcelFile.__init__\u001b[1;34m(self, path_or_buffer, engine, storage_options, engine_kwargs)\u001b[0m\n\u001b[0;32m   1548\u001b[0m     ext \u001b[38;5;241m=\u001b[39m \u001b[38;5;124m\"\u001b[39m\u001b[38;5;124mxls\u001b[39m\u001b[38;5;124m\"\u001b[39m\n\u001b[0;32m   1549\u001b[0m \u001b[38;5;28;01melse\u001b[39;00m:\n\u001b[1;32m-> 1550\u001b[0m     ext \u001b[38;5;241m=\u001b[39m \u001b[43minspect_excel_format\u001b[49m\u001b[43m(\u001b[49m\n\u001b[0;32m   1551\u001b[0m \u001b[43m        \u001b[49m\u001b[43mcontent_or_path\u001b[49m\u001b[38;5;241;43m=\u001b[39;49m\u001b[43mpath_or_buffer\u001b[49m\u001b[43m,\u001b[49m\u001b[43m \u001b[49m\u001b[43mstorage_options\u001b[49m\u001b[38;5;241;43m=\u001b[39;49m\u001b[43mstorage_options\u001b[49m\n\u001b[0;32m   1552\u001b[0m \u001b[43m    \u001b[49m\u001b[43m)\u001b[49m\n\u001b[0;32m   1553\u001b[0m     \u001b[38;5;28;01mif\u001b[39;00m ext \u001b[38;5;129;01mis\u001b[39;00m \u001b[38;5;28;01mNone\u001b[39;00m:\n\u001b[0;32m   1554\u001b[0m         \u001b[38;5;28;01mraise\u001b[39;00m \u001b[38;5;167;01mValueError\u001b[39;00m(\n\u001b[0;32m   1555\u001b[0m             \u001b[38;5;124m\"\u001b[39m\u001b[38;5;124mExcel file format cannot be determined, you must specify \u001b[39m\u001b[38;5;124m\"\u001b[39m\n\u001b[0;32m   1556\u001b[0m             \u001b[38;5;124m\"\u001b[39m\u001b[38;5;124man engine manually.\u001b[39m\u001b[38;5;124m\"\u001b[39m\n\u001b[0;32m   1557\u001b[0m         )\n",
      "File \u001b[1;32mc:\\Users\\afagi\\AppData\\Local\\Programs\\Python\\Python312\\Lib\\site-packages\\pandas\\io\\excel\\_base.py:1402\u001b[0m, in \u001b[0;36minspect_excel_format\u001b[1;34m(content_or_path, storage_options)\u001b[0m\n\u001b[0;32m   1399\u001b[0m \u001b[38;5;28;01mif\u001b[39;00m \u001b[38;5;28misinstance\u001b[39m(content_or_path, \u001b[38;5;28mbytes\u001b[39m):\n\u001b[0;32m   1400\u001b[0m     content_or_path \u001b[38;5;241m=\u001b[39m BytesIO(content_or_path)\n\u001b[1;32m-> 1402\u001b[0m \u001b[38;5;28;01mwith\u001b[39;00m \u001b[43mget_handle\u001b[49m\u001b[43m(\u001b[49m\n\u001b[0;32m   1403\u001b[0m \u001b[43m    \u001b[49m\u001b[43mcontent_or_path\u001b[49m\u001b[43m,\u001b[49m\u001b[43m \u001b[49m\u001b[38;5;124;43m\"\u001b[39;49m\u001b[38;5;124;43mrb\u001b[39;49m\u001b[38;5;124;43m\"\u001b[39;49m\u001b[43m,\u001b[49m\u001b[43m \u001b[49m\u001b[43mstorage_options\u001b[49m\u001b[38;5;241;43m=\u001b[39;49m\u001b[43mstorage_options\u001b[49m\u001b[43m,\u001b[49m\u001b[43m \u001b[49m\u001b[43mis_text\u001b[49m\u001b[38;5;241;43m=\u001b[39;49m\u001b[38;5;28;43;01mFalse\u001b[39;49;00m\n\u001b[0;32m   1404\u001b[0m \u001b[43m\u001b[49m\u001b[43m)\u001b[49m \u001b[38;5;28;01mas\u001b[39;00m handle:\n\u001b[0;32m   1405\u001b[0m     stream \u001b[38;5;241m=\u001b[39m handle\u001b[38;5;241m.\u001b[39mhandle\n\u001b[0;32m   1406\u001b[0m     stream\u001b[38;5;241m.\u001b[39mseek(\u001b[38;5;241m0\u001b[39m)\n",
      "File \u001b[1;32mc:\\Users\\afagi\\AppData\\Local\\Programs\\Python\\Python312\\Lib\\site-packages\\pandas\\io\\common.py:882\u001b[0m, in \u001b[0;36mget_handle\u001b[1;34m(path_or_buf, mode, encoding, compression, memory_map, is_text, errors, storage_options)\u001b[0m\n\u001b[0;32m    873\u001b[0m         handle \u001b[38;5;241m=\u001b[39m \u001b[38;5;28mopen\u001b[39m(\n\u001b[0;32m    874\u001b[0m             handle,\n\u001b[0;32m    875\u001b[0m             ioargs\u001b[38;5;241m.\u001b[39mmode,\n\u001b[1;32m   (...)\u001b[0m\n\u001b[0;32m    878\u001b[0m             newline\u001b[38;5;241m=\u001b[39m\u001b[38;5;124m\"\u001b[39m\u001b[38;5;124m\"\u001b[39m,\n\u001b[0;32m    879\u001b[0m         )\n\u001b[0;32m    880\u001b[0m     \u001b[38;5;28;01melse\u001b[39;00m:\n\u001b[0;32m    881\u001b[0m         \u001b[38;5;66;03m# Binary mode\u001b[39;00m\n\u001b[1;32m--> 882\u001b[0m         handle \u001b[38;5;241m=\u001b[39m \u001b[38;5;28;43mopen\u001b[39;49m\u001b[43m(\u001b[49m\u001b[43mhandle\u001b[49m\u001b[43m,\u001b[49m\u001b[43m \u001b[49m\u001b[43mioargs\u001b[49m\u001b[38;5;241;43m.\u001b[39;49m\u001b[43mmode\u001b[49m\u001b[43m)\u001b[49m\n\u001b[0;32m    883\u001b[0m     handles\u001b[38;5;241m.\u001b[39mappend(handle)\n\u001b[0;32m    885\u001b[0m \u001b[38;5;66;03m# Convert BytesIO or file objects passed with an encoding\u001b[39;00m\n",
      "\u001b[1;31mFileNotFoundError\u001b[0m: [Errno 2] No such file or directory: 'precios_semanales.xlsx'"
     ]
    }
   ],
   "source": [
    "# Carga y preparación de datos\n",
    "import os\n",
    "\n",
    "# Ruta al archivo Excel\n",
    "file_path = "Precios_Criptomonedas_Semanales.xlsx",,
    "df.set_index(df.columns[0], inplace=True)\n",
    "df.index = pd.to_datetime(df.index)\n",
    "\n",
    "# Cálculo de retornos y estadísticas\n",
    "returns = df.pct_change().dropna()\n",
    "mean_returns = returns.mean()\n",
    "cov_matrix = returns.cov()"
   ]
  },
  {
   "cell_type": "markdown",
   "id": "6abfe9548267852b",
   "metadata": {},
   "source": [
    "# PUNTO 1: MARKOWITZ"
   ]
  },
  {
   "cell_type": "code",
   "execution_count": 20,
   "id": "d64414872413809b",
   "metadata": {
    "ExecuteTime": {
     "end_time": "2025-06-21T17:57:48.971647Z",
     "start_time": "2025-06-21T17:57:48.964471Z"
    }
   },
   "outputs": [],
   "source": [
    "# Funciones básicas requeridas por Markowitz\n",
    "def portfolio_volatility(weights, cov_matrix):\n",
    "    return np.sqrt(weights.T @ cov_matrix @ weights)\n",
    "\n",
    "\n",
    "def portfolio_return(weights, mean_returns):\n",
    "    return np.sum(mean_returns * weights)\n",
    "\n",
    "\n",
    "# Generación de frontera eficiente\n",
    "def efficient_frontier(mean_returns, cov_matrix, num_points=100):\n",
    "    target_returns = np.linspace(min(mean_returns), max(mean_returns), num_points)\n",
    "    risks = []\n",
    "\n",
    "    for target in target_returns:\n",
    "        constraints = (\n",
    "            {'type': 'eq', 'fun': lambda w: np.sum(w) - 1},\n",
    "            {'type': 'eq', 'fun': lambda w: portfolio_return(w, mean_returns) - target}\n",
    "        )\n",
    "        bounds = [(0, 1) for _ in range(len(mean_returns))]\n",
    "        init_weights = np.ones(len(mean_returns)) / len(mean_returns)\n",
    "\n",
    "        opt = minimize(\n",
    "            portfolio_volatility,\n",
    "            init_weights,\n",
    "            args=(cov_matrix),\n",
    "            method='SLSQP',\n",
    "            bounds=bounds,\n",
    "            constraints=constraints\n",
    "        )\n",
    "        risks.append(opt.fun)\n",
    "\n",
    "    return target_returns, risks"
   ]
  },
  {
   "cell_type": "code",
   "execution_count": 8,
   "id": "359f09c47266f4bb",
   "metadata": {
    "ExecuteTime": {
     "end_time": "2025-06-21T17:28:42.516400Z",
     "start_time": "2025-06-21T17:28:41.988204Z"
    }
   },
   "outputs": [
    {
     "name": "stdout",
     "output_type": "stream",
     "text": [
      "Pesos óptimos (mínimo riesgo):\n",
      "BITCOIN: 0.4658\n",
      "WLD: 0.0000\n",
      "XRP: 0.0000\n",
      "BNB: 0.5342\n",
      "SOLANA: 0.0000\n",
      "APT: 0.0000\n",
      "SUI: 0.0000\n",
      "ETH: 0.0000\n",
      "1MBABYDOGE: 0.0000\n"
     ]
    }
   ],
   "source": [
    "# Encontrar portafolio de mínimo riesgo global\n",
    "constraints = {'type': 'eq', 'fun': lambda w: np.sum(w) - 1}\n",
    "bounds = [(0, 1) for _ in range(len(mean_returns))]\n",
    "init_weights = np.ones(len(mean_returns)) / len(mean_returns)\n",
    "\n",
    "min_risk_result = minimize(\n",
    "    portfolio_volatility,\n",
    "    init_weights,\n",
    "    args=(cov_matrix),\n",
    "    method='SLSQP',\n",
    "    bounds=bounds,\n",
    "    constraints=constraints\n",
    ")\n",
    "\n",
    "# Resultados\n",
    "optimal_weights = min_risk_result.x\n",
    "print(\"Pesos óptimos (mínimo riesgo):\")\n",
    "for ticker, weight in zip(df.columns, optimal_weights):\n",
    "    print(f\"{ticker}: {weight:.4f}\")\n"
   ]
  },
  {
   "cell_type": "code",
   "execution_count": null,
   "id": "bf7e2545a2937402",
   "metadata": {},
   "outputs": [],
   "source": [
    "# Frontera eficiente\n",
    "target_returns, risks = efficient_frontier(mean_returns, cov_matrix)\n",
    "\n",
    "# Gráfico (solo frontera eficiente como pide el proyecto)\n",
    "plt.figure(figsize=(10, 6))\n",
    "plt.plot(risks, target_returns, 'b-', linewidth=2)\n",
    "plt.scatter(portfolio_volatility(optimal_weights, cov_matrix),\n",
    "            portfolio_return(optimal_weights, mean_returns),\n",
    "            c='r', marker='*', s=300, label='Portafolio Mínimo Riesgo')\n",
    "plt.xlabel('Riesgo (Desviación Estándar)')\n",
    "plt.ylabel('Retorno Esperado')\n",
    "plt.title('Frontera Eficiente de Markowitz')\n",
    "plt.legend()\n",
    "plt.grid(True)\n",
    "plt.show()\n"
   ]
  },
  {
   "cell_type": "markdown",
   "id": "838498cd2b3386e2",
   "metadata": {},
   "source": [
    "# PUNTO 2: ALGORITMO GENETICO"
   ]
  },
  {
   "cell_type": "code",
   "execution_count": 45,
   "id": "f01e08868766ca42",
   "metadata": {
    "ExecuteTime": {
     "end_time": "2025-06-21T18:31:48.902828Z",
     "start_time": "2025-06-21T18:31:46.680386Z"
    }
   },
   "outputs": [
    {
     "name": "stdout",
     "output_type": "stream",
     "text": [
      "Iteration: 0\n",
      "Iteration: 1\n",
      "Iteration: 2\n",
      "Iteration: 3\n",
      "Iteration: 4\n",
      "Iteration: 5\n",
      "Iteration: 6\n",
      "Iteration: 7\n",
      "Iteration: 8\n",
      "Iteration: 9\n",
      "Iteration: 10\n",
      "Iteration: 11\n",
      "Iteration: 12\n",
      "Iteration: 13\n",
      "Iteration: 14\n",
      "Iteration: 15\n",
      "Iteration: 16\n",
      "Iteration: 17\n",
      "Iteration: 18\n",
      "Iteration: 19\n",
      "Iteration: 20\n",
      "Iteration: 21\n",
      "Iteration: 22\n",
      "Iteration: 23\n",
      "Iteration: 24\n",
      "Iteration: 25\n",
      "Iteration: 26\n",
      "Iteration: 27\n",
      "Iteration: 28\n",
      "Iteration: 29\n",
      "Iteration: 30\n",
      "Portaflio despues de las iteraciones:\n",
      "\n",
      "BITCOIN : 0.9375945022861961\n",
      "WLD : 0.0\n",
      "XRP : 0.062405497713803826\n",
      "BNB : 0.0\n",
      "SOLANA : 0.0\n",
      "APT : 0.0\n",
      "SUI : 0.0\n",
      "ETH : 0.0\n",
      "1MBABYDOGE : 0.0\n",
      "Comprobacion de igual a 1: 1.0\n"
     ]
    }
   ],
   "source": [
    "# función para δ² (varianza)\n",
    "def portfolio_variance(weights, cov_matrix):\n",
    "    return weights.T @ cov_matrix @ weights\n",
    "\n",
    "\n",
    "# Generates set of random numbers whose sum is equal to 1\n",
    "def chromosome(n):\n",
    "    ch = np.random.rand(n)\n",
    "    return ch / sum(ch)\n",
    "\n",
    "\n",
    "def fitness_function(child, mean_returns, cov_matrix):\n",
    "    expected_return = portfolio_return(child, mean_returns)\n",
    "    variance = portfolio_variance(child, cov_matrix)\n",
    "    return expected_return / variance  # Maximizar este ratio\n",
    "\n",
    "\n",
    "def select_elite_population(population, frac=0.3):\n",
    "    population = sorted(population, key=lambda x: fitness_function(x, mean_returns, cov_matrix), reverse=True)\n",
    "    percentage_elite_idx = int(np.floor(len(population) * frac))\n",
    "    return population[:percentage_elite_idx]\n",
    "\n",
    "\n",
    "# Randomy choosen elements of a chromosome are swapped\n",
    "def mutation(parent):\n",
    "    child = parent.copy()\n",
    "    n = np.random.choice(range(6), 2)\n",
    "\n",
    "    while (n[0] == n[1]):\n",
    "        n = np.random.choice(range(6), 2)\n",
    "\n",
    "    child[n[0]], child[n[1]] = child[n[1]], child[n[0]]\n",
    "    return child\n",
    "\n",
    "\n",
    "def crossover(parent1, parent2, mean_returns, cov_matrix):\n",
    "    ff1 = fitness_function(parent1, mean_returns, cov_matrix)\n",
    "    ff2 = fitness_function(parent2, mean_returns, cov_matrix)\n",
    "    diff = parent1 - parent2\n",
    "    beta = np.random.rand()\n",
    "    if ff1 > ff2:\n",
    "        child1 = parent1 + beta * diff\n",
    "        child2 = parent2 - beta * diff\n",
    "    else:\n",
    "        child2 = parent1 + beta * diff\n",
    "        child1 = parent2 - beta * diff\n",
    "    return child1, child2\n",
    "\n",
    "\n",
    "# Generates new population from elite population with mutation probability as 0.4 and crossover as 0.6.\n",
    "def next_generation(pop_size, elite, n, mean_returns, cov_matrix):\n",
    "    new_population = []\n",
    "    elite_range = range(len(elite))\n",
    "\n",
    "    while len(new_population) < pop_size:\n",
    "        if len(new_population) > 2 * pop_size / 3:  # In the final stages mutation frequency is decreased.\n",
    "            mutate_or_crossover = np.random.choice([0, 1], p=[0.9, 0.1])\n",
    "        else:\n",
    "            mutate_or_crossover = np.random.choice([0, 1], p=[0.4, 0.6])\n",
    "\n",
    "        if mutate_or_crossover:\n",
    "            indx = np.random.choice(elite_range)\n",
    "            new_population.append(mutation(elite[indx]))\n",
    "        else:\n",
    "            p1_idx, p2_idx = np.random.choice(elite_range, 2)\n",
    "            c1, c2 = crossover(elite[p1_idx], elite[p2_idx], mean_returns, cov_matrix)\n",
    "\n",
    "            # Validación de pesos negativos (versión mejorada)\n",
    "            if any(g < 0 for g in c1) or any(g < 0 for g in c2):\n",
    "                p1_idx, p2_idx = np.random.choice(elite_range, 2)\n",
    "                c1, c2 = crossover(elite[p1_idx], elite[p2_idx], mean_returns, cov_matrix)\n",
    "\n",
    "            new_population.extend([c1, c2])\n",
    "\n",
    "    new_population = [np.clip(individual, 0, 1) / np.sum(np.clip(individual, 0, 1)) for individual in new_population]\n",
    "    return new_population\n",
    "\n",
    "\n",
    "# Paso 1: Población inicial\n",
    "n = 9\n",
    "pop_size = 100  # initial population = 100\n",
    "population = np.array([chromosome(n) for _ in range(pop_size)])\n",
    "\n",
    "# Paso 2: Selección de la población élite\n",
    "elite = select_elite_population(population)\n",
    "\n",
    "iteration = 0\n",
    "\n",
    "while iteration <= 30:\n",
    "    print('Iteration:', iteration)\n",
    "    population = next_generation(100, elite, n, mean_returns, cov_matrix)\n",
    "    elite = select_elite_population(population)\n",
    "\n",
    "    iteration += 1\n",
    "\n",
    "print('Portaflio despues de las iteraciones:\\n')\n",
    "[print(df.columns[i], ':', elite[0][i]) for i in list(range(n))]\n",
    "\n",
    "print(\"Comprobacion de igual a 1:\", sum(elite[0]))\n",
    "\n"
   ]
  }
 ],
 "metadata": {
  "kernelspec": {
   "display_name": "Python 3",
   "language": "python",
   "name": "python3"
  },
  "language_info": {
   "codemirror_mode": {
    "name": "ipython",
    "version": 3
   },
   "file_extension": ".py",
   "mimetype": "text/x-python",
   "name": "python",
   "nbconvert_exporter": "python",
   "pygments_lexer": "ipython3",
   "version": "3.12.3"
  }
 },
 "nbformat": 4,
 "nbformat_minor": 5
}
